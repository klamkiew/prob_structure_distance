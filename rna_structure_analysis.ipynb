{
 "metadata": {
  "language_info": {
   "codemirror_mode": {
    "name": "ipython",
    "version": 3
   },
   "file_extension": ".py",
   "mimetype": "text/x-python",
   "name": "python",
   "nbconvert_exporter": "python",
   "pygments_lexer": "ipython3",
   "version": "3.8.3-final"
  },
  "orig_nbformat": 2,
  "kernelspec": {
   "name": "python3",
   "display_name": "Python 3"
  }
 },
 "nbformat": 4,
 "nbformat_minor": 2,
 "cells": [
  {
   "source": [
    "!mkdir synthetic_seq_fold\n",
    "!RNAfold -p < synthetic_seq.fasta > synthetic_seq_fold/synthetic_seq\n",
    "!mv *.ps synthetic_seq_fold"
   ],
   "cell_type": "code",
   "metadata": {},
   "execution_count": 1,
   "outputs": []
  },
  {
   "cell_type": "code",
   "execution_count": 61,
   "metadata": {
    "tags": []
   },
   "outputs": [],
   "source": [
    "def rnafold_dp_parse(file_path):\n",
    "    ps_file = open(file_path, \"r\")\n",
    "    probability_dictionary = {}\n",
    "    for line in ps_file:\n",
    "        if line.startswith('%'):\n",
    "            pass\n",
    "        elif line.endswith(\"ubox\\n\"):\n",
    "            i = int(line.split(\" \")[0])\n",
    "            j = int(line.split(\" \")[1])\n",
    "            p = float(line.split(\" \")[2])\n",
    "            if i in probability_dictionary.keys():\n",
    "                probability_dictionary[i].append((j, p))\n",
    "            else:\n",
    "                probability_dictionary[i] = [(j, p)]\n",
    "    ps_file.close()\n",
    "    return(probability_dictionary)"
   ]
  },
  {
   "cell_type": "code",
   "execution_count": 81,
   "metadata": {},
   "outputs": [],
   "source": [
    "structure01_dictionary =  rnafold_dp_parse('synthetic_seq_fold/structure01_dp.ps')\n",
    "structure02_dictionary =  rnafold_dp_parse('synthetic_seq_fold/structure02_dp.ps')"
   ]
  },
  {
   "cell_type": "code",
   "execution_count": 91,
   "metadata": {},
   "outputs": [
    {
     "output_type": "execute_result",
     "data": {
      "text/plain": [
       "[(6, 0.013979432),\n",
       " (8, 0.021289295),\n",
       " (11, 0.025792049),\n",
       " (15, 0.012439859),\n",
       " (16, 0.496400858),\n",
       " (17, 0.089184645),\n",
       " (24, 0.012535988),\n",
       " (28, 0.007861798),\n",
       " (33, 0.003518228),\n",
       " (37, 0.003943199),\n",
       " (42, 0.032849747),\n",
       " (45, 0.012559612),\n",
       " (46, 0.368107212),\n",
       " (47, 0.645577177),\n",
       " (49, 0.018830666),\n",
       " (52, 0.018980495),\n",
       " (54, 0.073535367),\n",
       " (57, 0.014991354),\n",
       " (58, 0.048889255),\n",
       " (59, 0.010740728),\n",
       " (60, 0.022899339),\n",
       " (62, 0.013470515),\n",
       " (63, 0.011845122),\n",
       " (64, 0.014364239),\n",
       " (65, 0.008443033)]"
      ]
     },
     "metadata": {},
     "execution_count": 91
    }
   ],
   "source": [
    "structure01_dictionary[2]"
   ]
  },
  {
   "cell_type": "code",
   "execution_count": 92,
   "metadata": {},
   "outputs": [
    {
     "output_type": "execute_result",
     "data": {
      "text/plain": [
       "0.004422749"
      ]
     },
     "metadata": {},
     "execution_count": 92
    }
   ],
   "source": [
    "structure02_dictionary[1][1][1]"
   ]
  },
  {
   "cell_type": "code",
   "execution_count": null,
   "metadata": {},
   "outputs": [],
   "source": [
    "def euclidean_distance_two_rna_molecules(len, p1, p2):\n",
    "    distance_dictionary = {}\n",
    "    for position_in_structure01 in range(1,len+1):\n",
    "        for i in range(1,len+1):\n",
    "            for j in range (1,len+1):\n",
    "                if i in probability_dictionary.keys() and :\n",
    "                    probability_dictionary[i].append((j, ))\n",
    "                else:\n",
    "                    probability_dictionary[i] = [(j, p)]\n",
    "    \n",
    "\n",
    "\n",
    "\n"
   ]
  },
  {
   "cell_type": "code",
   "execution_count": 88,
   "metadata": {},
   "outputs": [
    {
     "output_type": "stream",
     "name": "stdout",
     "text": [
      "1\n2\n3\n4\n5\n6\n7\n"
     ]
    }
   ],
   "source": []
  }
 ]
}