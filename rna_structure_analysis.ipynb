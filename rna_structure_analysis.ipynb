{
 "metadata": {
  "language_info": {
   "codemirror_mode": {
    "name": "ipython",
    "version": 3
   },
   "file_extension": ".py",
   "mimetype": "text/x-python",
   "name": "python",
   "nbconvert_exporter": "python",
   "pygments_lexer": "ipython3",
   "version": "3.8.3-final"
  },
  "orig_nbformat": 2,
  "kernelspec": {
   "name": "python3",
   "display_name": "Python 3"
  }
 },
 "nbformat": 4,
 "nbformat_minor": 2,
 "cells": [
  {
   "source": [
    "!mkdir synthetic_seq_fold\n",
    "!RNAfold -p < synthetic_seq.fasta > synthetic_seq_fold/synthetic_seq\n",
    "!mv *.ps synthetic_seq_fold"
   ],
   "cell_type": "code",
   "metadata": {},
   "execution_count": null,
   "outputs": []
  },
  {
   "cell_type": "code",
   "execution_count": 1,
   "metadata": {
    "tags": []
   },
   "outputs": [],
   "source": [
    "def rnafold_dp_parse(file_path):\n",
    "    '''\n",
    "    '''\n",
    "    ps_file = open(file_path, \"r\")\n",
    "    probability_dictionary = {}\n",
    "    for line in ps_file:\n",
    "        line = line.strip()\n",
    "        if line.endswith(\"ubox\") and not line.startswith(\"%\"):\n",
    "            i = int(line.split(\" \")[0])\n",
    "            j = int(line.split(\" \")[1])\n",
    "            p = pow(float(line.split(\" \")[2]),2)\n",
    "            probability_dictionary[(i, j)] = p\n",
    "    ps_file.close()\n",
    "    return(probability_dictionary)"
   ]
  },
  {
   "cell_type": "code",
   "execution_count": 2,
   "metadata": {},
   "outputs": [],
   "source": [
    "def distance_two_rna_molecules(rna_len, p1, p2):\n",
    "    distance_dictionary = {}\n",
    "    intersection_p = p1.keys() & p2.keys()\n",
    "    only_p1 = p1.keys() - p2.keys()\n",
    "    only_p2 = p2.keys() - p1.keys()\n",
    "    for key in intersection_p:\n",
    "        distance_dictionary[key] = pow(p1[key] - p2[key], 2)\n",
    "    for key in only_p1:\n",
    "        distance_dictionary[key] = pow(p1[key], 2)\n",
    "    for key in only_p2:\n",
    "        distance_dictionary[key] = pow(p2[key], 2)\n",
    "    return(distance_dictionary)\n"
   ]
  },
  {
   "cell_type": "code",
   "execution_count": 3,
   "metadata": {},
   "outputs": [],
   "source": [
    "rna01_pairing_p = rnafold_dp_parse('synthetic_seq_fold/structure01_dp.ps')\n",
    "rna02_pairing_p = rnafold_dp_parse('synthetic_seq_fold/structure02_dp.ps')"
   ]
  },
  {
   "cell_type": "code",
   "execution_count": 4,
   "metadata": {},
   "outputs": [],
   "source": [
    "distances_p_squared = distance_two_rna_molecules(66, rna01_pairing_p, rna02_pairing_p)"
   ]
  },
  {
   "cell_type": "code",
   "execution_count": 11,
   "metadata": {},
   "outputs": [
    {
     "output_type": "execute_result",
     "data": {
      "text/plain": [
       "9.44985940741574"
      ]
     },
     "metadata": {},
     "execution_count": 11
    }
   ],
   "source": [
    "sum(distances_p_squared.values())"
   ]
  }
 ]
}